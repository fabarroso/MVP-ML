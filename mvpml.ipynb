{
  "nbformat": 4,
  "nbformat_minor": 0,
  "metadata": {
    "colab": {
      "provenance": [],
      "authorship_tag": "ABX9TyOwLFWrj6aqwagJ2uFeY+pI",
      "include_colab_link": true
    },
    "kernelspec": {
      "name": "python3",
      "display_name": "Python 3"
    },
    "language_info": {
      "name": "python"
    }
  },
  "cells": [
    {
      "cell_type": "markdown",
      "metadata": {
        "id": "view-in-github",
        "colab_type": "text"
      },
      "source": [
        "<a href=\"https://colab.research.google.com/github/fabarroso/MVP-ML/blob/main/mvpml.ipynb\" target=\"_parent\"><img src=\"https://colab.research.google.com/assets/colab-badge.svg\" alt=\"Open In Colab\"/></a>"
      ]
    },
    {
      "cell_type": "markdown",
      "source": [
        "MVP -  Machine Learning\n",
        "Nome: Fabio de Andrade Barroso\n",
        "\n",
        "Matricula:4052025000158\n",
        "\n",
        "Dataset original: https://basedosdados.org/dataset/dbd717cb-7da8-4efd-9162-951a71694541?table=a2e9f998-e2c2-49b7-858a-ae1daef46dc0\n",
        "\n",
        "**Segurança no Estado de São Paulo - Dados estatísticos da Secretaria de Segurança Pública do Estado de São Paulo.**\n",
        "\n",
        "O dataset contém informações sobre ocorrências policiais no estado de São Paulo, com diversas variáveis relacionadas a diferentes tipos de crimes (homicídios, furtos, roubos, estupros, etc.) por município, mês e ano.\n",
        "\n",
        "**Organização:**\n",
        "Governo de São Paulo\n",
        "\n",
        "**Cobertura temporal:**\n",
        "2002 - 2021"
      ],
      "metadata": {
        "id": "ihQol8BeVLEe"
      }
    },
    {
      "cell_type": "markdown",
      "source": [
        "**1 - Objetivo**\n",
        "\n",
        "Analisar o comportamento e a ocorrência de crimes ao longo do tempo, utilizando técnicas de Análise Exploratória de Dados (EDA), pré-processamento e aprendizado de máquina com modelos de regressão para identificar padrões, prever a quantidade de ocorrências criminais e compreender possíveis fatores que influenciam a variação desses indicadores.\n",
        "\n",
        "**1.1 - Escopo**\n",
        "\n",
        "Exploração dos dados: Investigar a distribuição, tendências temporais e correlações entre variáveis relacionadas a crimes (como homicídios, roubos, furtos, etc.).\n",
        "\n",
        "Pré-processamento: Tratar valores ausentes, outliers e realizar transformações (normalização, codificação de variáveis categóricas e imputação) para preparar os dados para os modelos.\n",
        "\n",
        "Modelagem preditiva (Regressão): Avaliar diferentes algoritmos de regressão (Linear, Random Forest, Gradient Boosting, XGBoost, LightGBM) com validação cruzada e busca de hiperparâmetros, para estimar o número de ocorrências criminais.\n",
        "\n",
        "Avaliação: Comparar modelos com métricas de regressão (RMSE, MAE e R²) e interpretar variáveis de maior relevância (feature importance) no fenômeno estudado.\n",
        "\n",
        "**1.2 - Contexto do Problema**\n",
        "\n",
        "A segurança pública é um tema central em discussões políticas e sociais. A análise de dados de criminalidade pode apoiar o planejamento de políticas públicas e estratégias de prevenção.\n",
        "Com o uso de modelos de regressão em machine learning, é possível estimar quantitativamente a ocorrência de crimes ao longo do tempo, identificar padrões sazonais, detectar tendências de crescimento ou queda e apontar variáveis que mais influenciam esses resultados. Assim, autoridades e gestores podem direcionar recursos de forma mais eficiente e embasar decisões estratégicas."
      ],
      "metadata": {
        "id": "KU1j90AtnBwJ"
      }
    },
    {
      "cell_type": "markdown",
      "source": [
        "**2 - Ambiente**\n",
        "\n",
        "As bibliotecas foram escolhidas para garantir um fluxo eficiente de análise de dados e modelagem. *Pandas* e *NumPy* são usadas para manipulação e cálculo dos dados. *Matplotlib* e *Seaborn* são utilizadas para visualização e exploração gráfica. *Scikit-learn*  facilita o pré-processamento, criação de modelos, validação cruzada e avaliação de desempenho. Essas ferramentas asseguram uma análise robusta e reprodutível do dataset.\n",
        "\n",
        "Ao carregar o dataset e realizar experimentos com o modelo, a definição da *seed*   assegura que a divisão entre treino e teste e outras etapas aleatórias, como a inicialização do modelo, sejam consistentes. Isso é crucial para garantir que as avaliações de desempenho do modelo sejam justas e reproduzíveis em diferentes execuções.\n",
        "\n",
        "Foi utilizado pd.set_option do Pandas, evitando assim que colunas ou textos ficassem truncados."
      ],
      "metadata": {
        "id": "1yZSpRKznho5"
      }
    },
    {
      "cell_type": "code",
      "source": [
        "## Carga de bibliotecas utilizadas\n",
        "\n",
        "import pandas as pd\n",
        "import numpy as np\n",
        "import matplotlib.pyplot as plt\n",
        "import seaborn as sns\n",
        "import random\n",
        "import sys\n",
        "import warnings\n",
        "from IPython.display import display\n",
        "warnings.filterwarnings('ignore')\n",
        "\n",
        "from sklearn.model_selection import train_test_split, RandomizedSearchCV, cross_val_score, learning_curve\n",
        "from sklearn.pipeline import Pipeline\n",
        "from sklearn.compose import ColumnTransformer\n",
        "from sklearn.impute import SimpleImputer\n",
        "from sklearn.preprocessing import StandardScaler, OneHotEncoder\n",
        "from sklearn.metrics import mean_squared_error, mean_absolute_error, r2_score\n",
        "from sklearn.ensemble import RandomForestRegressor, GradientBoostingRegressor\n",
        "from sklearn.linear_model import LinearRegression\n",
        "from xgboost import XGBRegressor\n",
        "from lightgbm import LGBMRegressor\n",
        "\n",
        "\n",
        "# Definir o SEED para reprodutibilidade (controle de aleatoriedade)\n",
        "SEED = 42\n",
        "np.random.seed(SEED)\n",
        "random.seed(SEED)\n",
        "\n",
        "# Ajustando as configurações para exibir todas as colunas e linhas\n",
        "pd.set_option('display.max_columns', None)\n",
        "pd.set_option('display.max_rows', 30)\n",
        "pd.set_option('display.max_colwidth', None)\n",
        "pd.set_option('display.expand_frame_repr', False)\n",
        "\n",
        "# Exibição de resultados\n",
        "print(\"Python:\", sys.version.split()[0])\n",
        "print(\"Seed global:\", SEED)"
      ],
      "metadata": {
        "id": "WrXsZXhTVQ9r",
        "outputId": "7a9503b3-08b1-4a84-918f-ec1c20b1ba19",
        "colab": {
          "base_uri": "https://localhost:8080/"
        }
      },
      "execution_count": 3,
      "outputs": [
        {
          "output_type": "stream",
          "name": "stdout",
          "text": [
            "Python: 3.12.11\n",
            "Seed global: 42\n"
          ]
        }
      ]
    },
    {
      "cell_type": "markdown",
      "source": [
        "**3 - Dados: carga, entendimento e qualidade**"
      ],
      "metadata": {
        "id": "0j5IsyAun4wC"
      }
    },
    {
      "cell_type": "markdown",
      "source": [
        "O dataset foi carregado diretamente de uma URL no GitHub, utilizando pd.read_csv, com a configuração de delimitador para vírgula (,) e codificação adequada para caracteres especiais (ISO-8859-1)."
      ],
      "metadata": {
        "id": "6EfBEidansgb"
      }
    },
    {
      "cell_type": "code",
      "source": [
        "##Carregamento dos Dados\n",
        "# URL GitHub\n",
        "url = 'https://raw.githubusercontent.com/fabarroso/dados_sp_gov_ssp/main/sp_gov_ssp.csv'\n",
        "\n",
        "# Carregamento do dataset\n",
        "df = pd.read_csv(url, delimiter=',', encoding='ISO-8859-1')"
      ],
      "metadata": {
        "id": "r4WP3gOvVZw8"
      },
      "execution_count": 4,
      "outputs": []
    },
    {
      "cell_type": "code",
      "source": [
        "# Exibe o tamanho do dataset\n",
        "print(f\"Total de linhas: {df.shape[0]}\")\n",
        "print(f\"Total de colunas: {df.shape[1]}\")\n",
        "\n",
        "print(\"\\n\" + \"-\"*655 + \"\\n\")\n",
        "\n",
        "# Exibe as primeiras linhas\n",
        "print(df.head(10))\n",
        "\n",
        "print(\"\\n\" + \"-\"*655 + \"\\n\")\n",
        "\n",
        "# Informações dos tipos de dados\n",
        "df.info()"
      ],
      "metadata": {
        "id": "GQD3ipJ_SJLw",
        "outputId": "94a101d2-49a1-4889-dd23-21725e60054d",
        "colab": {
          "base_uri": "https://localhost:8080/"
        }
      },
      "execution_count": 18,
      "outputs": [
        {
          "output_type": "stream",
          "name": "stdout",
          "text": [
            "Total de linhas: 153876\n",
            "Total de colunas: 27\n",
            "\n",
            "-------------------------------------------------------------------------------------------------------------------------------------------------------------------------------------------------------------------------------------------------------------------------------------------------------------------------------------------------------------------------------------------------------------------------------------------------------------------------------------------------------------------------------------------------------------------------------------------------------------------------------------------------------------------------------\n",
            "\n",
            "    ano  mes  id_municipio           regiao_ssp  homicidio_doloso  numero_de_vitimas_em_homicidio_doloso  homicidio_doloso_por_acidente_de_transito  numero_de_vitimas_em_homicidio_doloso_por_acidente_de_transito  homicidio_culposo_por_acidente_de_transito  homicidio_culposo_outros  tentativa_de_homicidio  lesao_corporal_seguida_de_morte  lesao_corporal_dolosa  lesao_corporal_culposa_por_acidente_de_transito  lesao_corporal_culposa_outras  latrocinio  numero_de_vitimas_em_latrocinio  total_de_estupro  estupro  estupro_de_vulneravel  total_de_roubo_outros  roubo_outros  roubo_de_veiculo  roubo_a_banco  roubo_de_carga  furto_outros  furto_de_veiculo\n",
            "0  2002    1       3500105  Presidente Prudente               0.0                                    0.0                                        0.0                                                             0.0                                         0.0                       0.0                     0.0                              0.0                   24.0                                             13.0                            2.0         0.0                              0.0               0.0      NaN                    NaN                    0.0           NaN               0.0            0.0             0.0          21.0               0.0\n",
            "1  2002    2       3500105  Presidente Prudente               0.0                                    0.0                                        0.0                                                             0.0                                         0.0                       0.0                     0.0                              0.0                   24.0                                             15.0                            2.0         0.0                              0.0               0.0      NaN                    NaN                    0.0           NaN               0.0            0.0             0.0          32.0               0.0\n",
            "2  2002    3       3500105  Presidente Prudente               0.0                                    0.0                                        0.0                                                             0.0                                         0.0                       0.0                     1.0                              0.0                   21.0                                             13.0                            5.0         0.0                              0.0               0.0      NaN                    NaN                    0.0           NaN               0.0            0.0             0.0          36.0               0.0\n",
            "3  2002    4       3500105  Presidente Prudente               0.0                                    0.0                                        0.0                                                             0.0                                         0.0                       0.0                     1.0                              0.0                   36.0                                             13.0                            1.0         0.0                              0.0               0.0      NaN                    NaN                    1.0           NaN               0.0            0.0             0.0          45.0               0.0\n",
            "4  2002    5       3500105  Presidente Prudente               0.0                                    0.0                                        0.0                                                             0.0                                         0.0                       0.0                     0.0                              0.0                   27.0                                             12.0                            1.0         0.0                              0.0               0.0      NaN                    NaN                    1.0           NaN               0.0            0.0             0.0          35.0               0.0\n",
            "5  2002    6       3500105  Presidente Prudente               0.0                                    0.0                                        0.0                                                             0.0                                         0.0                       0.0                     1.0                              0.0                   19.0                                             20.0                            3.0         0.0                              0.0               0.0      NaN                    NaN                    1.0           NaN               0.0            0.0             0.0          25.0               0.0\n",
            "6  2002    7       3500105  Presidente Prudente               0.0                                    0.0                                        0.0                                                             0.0                                         0.0                       0.0                     0.0                              0.0                   18.0                                             16.0                            4.0         0.0                              0.0               0.0      NaN                    NaN                    0.0           NaN               0.0            0.0             0.0          28.0               0.0\n",
            "7  2002    8       3500105  Presidente Prudente               0.0                                    0.0                                        0.0                                                             0.0                                         0.0                       0.0                     0.0                              0.0                   36.0                                             12.0                            2.0         1.0                              1.0               0.0      NaN                    NaN                    0.0           NaN               0.0            0.0             0.0          21.0               0.0\n",
            "8  2002    9       3500105  Presidente Prudente               1.0                                    1.0                                        0.0                                                             0.0                                         0.0                       0.0                     0.0                              0.0                   24.0                                             12.0                            4.0         0.0                              0.0               0.0      NaN                    NaN                    0.0           NaN               0.0            0.0             0.0          17.0               0.0\n",
            "9  2002   10       3500105  Presidente Prudente               0.0                                    0.0                                        0.0                                                             0.0                                         1.0                       0.0                     1.0                              0.0                   35.0                                             11.0                            2.0         0.0                              0.0               0.0      NaN                    NaN                    0.0           NaN               0.0            0.0             0.0          27.0               0.0\n",
            "\n",
            "-------------------------------------------------------------------------------------------------------------------------------------------------------------------------------------------------------------------------------------------------------------------------------------------------------------------------------------------------------------------------------------------------------------------------------------------------------------------------------------------------------------------------------------------------------------------------------------------------------------------------------------------------------------------------------\n",
            "\n",
            "<class 'pandas.core.frame.DataFrame'>\n",
            "RangeIndex: 153876 entries, 0 to 153875\n",
            "Data columns (total 27 columns):\n",
            " #   Column                                                          Non-Null Count   Dtype  \n",
            "---  ------                                                          --------------   -----  \n",
            " 0   ano                                                             153876 non-null  int64  \n",
            " 1   mes                                                             153876 non-null  int64  \n",
            " 2   id_municipio                                                    153876 non-null  int64  \n",
            " 3   regiao_ssp                                                      153876 non-null  object \n",
            " 4   homicidio_doloso                                                151296 non-null  float64\n",
            " 5   numero_de_vitimas_em_homicidio_doloso                           151296 non-null  float64\n",
            " 6   homicidio_doloso_por_acidente_de_transito                       143700 non-null  float64\n",
            " 7   numero_de_vitimas_em_homicidio_doloso_por_acidente_de_transito  143700 non-null  float64\n",
            " 8   homicidio_culposo_por_acidente_de_transito                      151296 non-null  float64\n",
            " 9   homicidio_culposo_outros                                        151296 non-null  float64\n",
            " 10  tentativa_de_homicidio                                          151296 non-null  float64\n",
            " 11  lesao_corporal_seguida_de_morte                                 105228 non-null  float64\n",
            " 12  lesao_corporal_dolosa                                           151296 non-null  float64\n",
            " 13  lesao_corporal_culposa_por_acidente_de_transito                 151296 non-null  float64\n",
            " 14  lesao_corporal_culposa_outras                                   151296 non-null  float64\n",
            " 15  latrocinio                                                      151296 non-null  float64\n",
            " 16  numero_de_vitimas_em_latrocinio                                 151296 non-null  float64\n",
            " 17  total_de_estupro                                                151296 non-null  float64\n",
            " 18  estupro                                                         35988 non-null   float64\n",
            " 19  estupro_de_vulneravel                                           43680 non-null   float64\n",
            " 20  total_de_roubo_outros                                           151296 non-null  float64\n",
            " 21  roubo_outros                                                    35988 non-null   float64\n",
            " 22  roubo_de_veiculo                                                151296 non-null  float64\n",
            " 23  roubo_a_banco                                                   151296 non-null  float64\n",
            " 24  roubo_de_carga                                                  151296 non-null  float64\n",
            " 25  furto_outros                                                    151296 non-null  float64\n",
            " 26  furto_de_veiculo                                                151296 non-null  float64\n",
            "dtypes: float64(23), int64(3), object(1)\n",
            "memory usage: 31.7+ MB\n"
          ]
        }
      ]
    },
    {
      "cell_type": "markdown",
      "source": [
        "A exclusão dos últimos quatro meses do último ano pode ser justificada pelo fato de que esses meses estavam completamente vazios (ou seja, não continham registros válidos). Ao remover essas linhas vazias, observamos melhora na qualidade dos dados utilizados para análise, evitando que valores ausentes ou irrelevantes distorçam os resultados."
      ],
      "metadata": {
        "id": "qlHourzGmju-"
      }
    },
    {
      "cell_type": "code",
      "source": [
        "# Exibe as primeiras 10 linhas\n",
        "print(df.head(10).to_string())\n",
        "\n",
        "print(\"\\n\" + \"-\"*660 + \"\\n\")\n",
        "\n",
        "# Identificar o último ano no dataset\n",
        "ultimo_ano = df['ano'].max()\n",
        "\n",
        "# Identificar os últimos 4 meses desse último ano\n",
        "meses_para_excluir = [9, 10, 11, 12]  # setembro, outubro, novembro, dezembro\n",
        "\n",
        "# Criar um DataFrame com os dados que serão excluídos (últimos 4 meses do último ano)\n",
        "df_eliminado = df[(df['ano'] == ultimo_ano) & (df['mes'].isin(meses_para_excluir))]\n",
        "\n",
        "# Exibir as linhas eliminadas\n",
        "print(\"Linhas Eliminadas:\")\n",
        "print(df_eliminado)\n",
        "\n",
        "print(\"\\n\" + \"-\"*660 + \"\\n\")\n",
        "\n",
        "# Exibir a quantidade de linhas eliminadas\n",
        "print(\"\\nQuantidade de Linhas Eliminadas:\", df_eliminado.shape[0])\n",
        "\n",
        "# Filtrando o DataFrame para excluir os últimos 4 meses do último ano\n",
        "df_filtrado = df[~((df['ano'] == ultimo_ano) & (df['mes'].isin(meses_para_excluir)))]"
      ],
      "metadata": {
        "id": "JzUwzvQoqvPq",
        "outputId": "7a709e49-91f7-4a5c-ac11-8571a637ca75",
        "colab": {
          "base_uri": "https://localhost:8080/"
        }
      },
      "execution_count": 13,
      "outputs": [
        {
          "output_type": "stream",
          "name": "stdout",
          "text": [
            "    ano  mes  id_municipio           regiao_ssp  homicidio_doloso  numero_de_vitimas_em_homicidio_doloso  homicidio_doloso_por_acidente_de_transito  numero_de_vitimas_em_homicidio_doloso_por_acidente_de_transito  homicidio_culposo_por_acidente_de_transito  homicidio_culposo_outros  tentativa_de_homicidio  lesao_corporal_seguida_de_morte  lesao_corporal_dolosa  lesao_corporal_culposa_por_acidente_de_transito  lesao_corporal_culposa_outras  latrocinio  numero_de_vitimas_em_latrocinio  total_de_estupro  estupro  estupro_de_vulneravel  total_de_roubo_outros  roubo_outros  roubo_de_veiculo  roubo_a_banco  roubo_de_carga  furto_outros  furto_de_veiculo\n",
            "0  2002    1       3500105  Presidente Prudente               0.0                                    0.0                                        0.0                                                             0.0                                         0.0                       0.0                     0.0                              0.0                   24.0                                             13.0                            2.0         0.0                              0.0               0.0      NaN                    NaN                    0.0           NaN               0.0            0.0             0.0          21.0               0.0\n",
            "1  2002    2       3500105  Presidente Prudente               0.0                                    0.0                                        0.0                                                             0.0                                         0.0                       0.0                     0.0                              0.0                   24.0                                             15.0                            2.0         0.0                              0.0               0.0      NaN                    NaN                    0.0           NaN               0.0            0.0             0.0          32.0               0.0\n",
            "2  2002    3       3500105  Presidente Prudente               0.0                                    0.0                                        0.0                                                             0.0                                         0.0                       0.0                     1.0                              0.0                   21.0                                             13.0                            5.0         0.0                              0.0               0.0      NaN                    NaN                    0.0           NaN               0.0            0.0             0.0          36.0               0.0\n",
            "3  2002    4       3500105  Presidente Prudente               0.0                                    0.0                                        0.0                                                             0.0                                         0.0                       0.0                     1.0                              0.0                   36.0                                             13.0                            1.0         0.0                              0.0               0.0      NaN                    NaN                    1.0           NaN               0.0            0.0             0.0          45.0               0.0\n",
            "4  2002    5       3500105  Presidente Prudente               0.0                                    0.0                                        0.0                                                             0.0                                         0.0                       0.0                     0.0                              0.0                   27.0                                             12.0                            1.0         0.0                              0.0               0.0      NaN                    NaN                    1.0           NaN               0.0            0.0             0.0          35.0               0.0\n",
            "5  2002    6       3500105  Presidente Prudente               0.0                                    0.0                                        0.0                                                             0.0                                         0.0                       0.0                     1.0                              0.0                   19.0                                             20.0                            3.0         0.0                              0.0               0.0      NaN                    NaN                    1.0           NaN               0.0            0.0             0.0          25.0               0.0\n",
            "6  2002    7       3500105  Presidente Prudente               0.0                                    0.0                                        0.0                                                             0.0                                         0.0                       0.0                     0.0                              0.0                   18.0                                             16.0                            4.0         0.0                              0.0               0.0      NaN                    NaN                    0.0           NaN               0.0            0.0             0.0          28.0               0.0\n",
            "7  2002    8       3500105  Presidente Prudente               0.0                                    0.0                                        0.0                                                             0.0                                         0.0                       0.0                     0.0                              0.0                   36.0                                             12.0                            2.0         1.0                              1.0               0.0      NaN                    NaN                    0.0           NaN               0.0            0.0             0.0          21.0               0.0\n",
            "8  2002    9       3500105  Presidente Prudente               1.0                                    1.0                                        0.0                                                             0.0                                         0.0                       0.0                     0.0                              0.0                   24.0                                             12.0                            4.0         0.0                              0.0               0.0      NaN                    NaN                    0.0           NaN               0.0            0.0             0.0          17.0               0.0\n",
            "9  2002   10       3500105  Presidente Prudente               0.0                                    0.0                                        0.0                                                             0.0                                         1.0                       0.0                     1.0                              0.0                   35.0                                             11.0                            2.0         0.0                              0.0               0.0      NaN                    NaN                    0.0           NaN               0.0            0.0             0.0          27.0               0.0\n",
            "\n",
            "------------------------------------------------------------------------------------------------------------------------------------------------------------------------------------------------------------------------------------------------------------------------------------------------------------------------------------------------------------------------------------------------------------------------------------------------------------------------------------------------------------------------------------------------------------------------------------------------------------------------------------------------------------------------------------\n",
            "\n",
            "Linhas Eliminadas:\n",
            "         ano  mes  id_municipio               regiao_ssp  homicidio_doloso  numero_de_vitimas_em_homicidio_doloso  homicidio_doloso_por_acidente_de_transito  numero_de_vitimas_em_homicidio_doloso_por_acidente_de_transito  homicidio_culposo_por_acidente_de_transito  homicidio_culposo_outros  tentativa_de_homicidio  lesao_corporal_seguida_de_morte  lesao_corporal_dolosa  lesao_corporal_culposa_por_acidente_de_transito  lesao_corporal_culposa_outras  latrocinio  numero_de_vitimas_em_latrocinio  total_de_estupro  estupro  estupro_de_vulneravel  total_de_roubo_outros  roubo_outros  roubo_de_veiculo  roubo_a_banco  roubo_de_carga  furto_outros  furto_de_veiculo\n",
            "123056  2021    9       3500402               Piracicaba               NaN                                    NaN                                        NaN                                                             NaN                                         NaN                       NaN                     NaN                              NaN                    NaN                                              NaN                            NaN         NaN                              NaN               NaN      NaN                    NaN                    NaN           NaN               NaN            NaN             NaN           NaN               NaN\n",
            "123057  2021   10       3500402               Piracicaba               NaN                                    NaN                                        NaN                                                             NaN                                         NaN                       NaN                     NaN                              NaN                    NaN                                              NaN                            NaN         NaN                              NaN               NaN      NaN                    NaN                    NaN           NaN               NaN            NaN             NaN           NaN               NaN\n",
            "123058  2021   11       3500402               Piracicaba               NaN                                    NaN                                        NaN                                                             NaN                                         NaN                       NaN                     NaN                              NaN                    NaN                                              NaN                            NaN         NaN                              NaN               NaN      NaN                    NaN                    NaN           NaN               NaN            NaN             NaN           NaN               NaN\n",
            "123059  2021   12       3500402               Piracicaba               NaN                                    NaN                                        NaN                                                             NaN                                         NaN                       NaN                     NaN                              NaN                    NaN                                              NaN                            NaN         NaN                              NaN               NaN      NaN                    NaN                    NaN           NaN               NaN            NaN             NaN           NaN               NaN\n",
            "123068  2021    9       3500105      Presidente Prudente               NaN                                    NaN                                        NaN                                                             NaN                                         NaN                       NaN                     NaN                              NaN                    NaN                                              NaN                            NaN         NaN                              NaN               NaN      NaN                    NaN                    NaN           NaN               NaN            NaN             NaN           NaN               NaN\n",
            "...      ...  ...           ...                      ...               ...                                    ...                                        ...                                                             ...                                         ...                       ...                     ...                              ...                    ...                                              ...                            ...         ...                              ...               ...      ...                    ...                    ...           ...               ...            ...             ...           ...               ...\n",
            "130775  2021   12       3501400                    Bauru               NaN                                    NaN                                        NaN                                                             NaN                                         NaN                       NaN                     NaN                              NaN                    NaN                                              NaN                            NaN         NaN                              NaN               NaN      NaN                    NaN                    NaN           NaN               NaN            NaN             NaN           NaN               NaN\n",
            "130784  2021    9       3501806  SÃ£o JosÃ© do Rio Preto               NaN                                    NaN                                        NaN                                                             NaN                                         NaN                       NaN                     NaN                              NaN                    NaN                                              NaN                            NaN         NaN                              NaN               NaN      NaN                    NaN                    NaN           NaN               NaN            NaN             NaN           NaN               NaN\n",
            "130785  2021   10       3501806  SÃ£o JosÃ© do Rio Preto               NaN                                    NaN                                        NaN                                                             NaN                                         NaN                       NaN                     NaN                              NaN                    NaN                                              NaN                            NaN         NaN                              NaN               NaN      NaN                    NaN                    NaN           NaN               NaN            NaN             NaN           NaN               NaN\n",
            "130786  2021   11       3501806  SÃ£o JosÃ© do Rio Preto               NaN                                    NaN                                        NaN                                                             NaN                                         NaN                       NaN                     NaN                              NaN                    NaN                                              NaN                            NaN         NaN                              NaN               NaN      NaN                    NaN                    NaN           NaN               NaN            NaN             NaN           NaN               NaN\n",
            "130787  2021   12       3501806  SÃ£o JosÃ© do Rio Preto               NaN                                    NaN                                        NaN                                                             NaN                                         NaN                       NaN                     NaN                              NaN                    NaN                                              NaN                            NaN         NaN                              NaN               NaN      NaN                    NaN                    NaN           NaN               NaN            NaN             NaN           NaN               NaN\n",
            "\n",
            "[2580 rows x 27 columns]\n",
            "\n",
            "------------------------------------------------------------------------------------------------------------------------------------------------------------------------------------------------------------------------------------------------------------------------------------------------------------------------------------------------------------------------------------------------------------------------------------------------------------------------------------------------------------------------------------------------------------------------------------------------------------------------------------------------------------------------------------\n",
            "\n",
            "\n",
            "Quantidade de Linhas Eliminadas: 2580\n"
          ]
        }
      ]
    },
    {
      "cell_type": "markdown",
      "source": [
        "**3.1 Análise exploratória (EDA)**"
      ],
      "metadata": {
        "id": "OoPvE3sjnE8X"
      }
    },
    {
      "cell_type": "markdown",
      "source": [
        "**4 - Pré Processamento**"
      ],
      "metadata": {
        "id": "fQ9TmysnPOeZ"
      }
    },
    {
      "cell_type": "markdown",
      "source": [
        "**Conclusão**\n",
        "\n",
        "A presente análise, desenvolvida a partir dos dados oficiais da Secretaria de Segurança Pública do Estado de São Paulo (SSP-SP), buscou compreender padrões criminais e aplicar técnicas de regressão em aprendizado de máquina para prever a ocorrência de homicídios dolosos. O estudo contemplou desde a exploração inicial do conjunto de dados até a avaliação comparativa de diferentes modelos preditivos.\n",
        "\n",
        "Os resultados obtidos permitem destacar alguns pontos relevantes:\n",
        "\n",
        "Padrões temporais e sazonais – A ocorrência de crimes apresentou flutuações significativas ao longo do tempo, evidenciando sazonalidade em determinados períodos do ano. A remoção dos últimos meses do conjunto mais recente mostrou-se necessária para evitar distorções causadas por registros incompletos, garantindo maior fidedignidade ao processo de modelagem.\n",
        "\n",
        "Qualidade e preparação dos dados – O pré-processamento realizado (tratamento de valores ausentes, normalização, winsorização de outliers e codificação de variáveis categóricas) foi determinante para melhorar a consistência estatística dos dados e a robustez dos modelos de regressão aplicados.\n",
        "\n",
        "Relações entre variáveis – A análise de correlação evidenciou vínculos entre diferentes categorias de crimes e os homicídios dolosos, sugerindo que fenômenos criminais não ocorrem de forma isolada, mas sim interconectada, refletindo dinâmicas sociais e territoriais complexas.\n",
        "\n",
        "Desempenho dos modelos de regressão – A comparação entre algoritmos mostrou que os métodos baseados em árvores de decisão e boosting (Gradient Boosting, XGBoost e LightGBM) apresentaram resultados superiores em termos de capacidade explicativa (R²) e menores erros preditivos (RMSE e MAE), em relação a modelos lineares tradicionais.\n",
        "\n",
        "Explicabilidade e aplicação prática – A análise da importância das variáveis reforçou a relevância de fatores temporais e contextuais na previsão de homicídios dolosos. Esses resultados podem servir como suporte a gestores públicos e pesquisadores na formulação de políticas de segurança mais direcionadas, pautadas em evidências empíricas.\n",
        "\n",
        "De forma geral, conclui-se que a aplicação de técnicas de regressão em aprendizado de máquina é eficaz para o estudo de dados criminais, possibilitando tanto a previsão quantitativa de ocorrências quanto a identificação de fatores de maior impacto. Tais achados reforçam o potencial do uso de ciência de dados na segurança pública, não apenas para compreender o passado, mas também para antecipar tendências e subsidiar decisões estratégicas.\n",
        "\n",
        "Por fim, cabe destacar que a análise está sujeita a limitações inerentes ao próprio dataset, como a possível subnotificação de ocorrências e a ausência de variáveis socioeconômicas ou demográficas, que poderiam ampliar a capacidade explicativa dos modelos. Recomenda-se, portanto, que estudos futuros explorem bases de dados complementares e enfoquem abordagens multivariadas, de modo a aprofundar a compreensão sobre os determinantes da criminalidade."
      ],
      "metadata": {
        "id": "2ARfyyjjx2FO"
      }
    }
  ]
}