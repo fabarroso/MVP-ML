{
  "nbformat": 4,
  "nbformat_minor": 0,
  "metadata": {
    "colab": {
      "provenance": [],
      "authorship_tag": "ABX9TyNHYCmFXk5P5sCg2ruZN05d",
      "include_colab_link": true
    },
    "kernelspec": {
      "name": "python3",
      "display_name": "Python 3"
    },
    "language_info": {
      "name": "python"
    }
  },
  "cells": [
    {
      "cell_type": "markdown",
      "metadata": {
        "id": "view-in-github",
        "colab_type": "text"
      },
      "source": [
        "<a href=\"https://colab.research.google.com/github/fabarroso/MVP-ML/blob/main/mvpml.ipynb\" target=\"_parent\"><img src=\"https://colab.research.google.com/assets/colab-badge.svg\" alt=\"Open In Colab\"/></a>"
      ]
    },
    {
      "cell_type": "markdown",
      "source": [
        "MVP -  Machine Leaarning\n",
        "Nome: Fabio de Andrade Barroso\n",
        "\n",
        "Matricula:4052025000158\n",
        "\n",
        "Dataset original:\n",
        "\n"
      ],
      "metadata": {
        "id": "ihQol8BeVLEe"
      }
    }
  ]
}