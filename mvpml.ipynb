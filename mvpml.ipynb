{
  "nbformat": 4,
  "nbformat_minor": 0,
  "metadata": {
    "colab": {
      "provenance": [],
      "authorship_tag": "ABX9TyOTLOFGJSIkumPMQ6QoutJ0",
      "include_colab_link": true
    },
    "kernelspec": {
      "name": "python3",
      "display_name": "Python 3"
    },
    "language_info": {
      "name": "python"
    }
  },
  "cells": [
    {
      "cell_type": "markdown",
      "metadata": {
        "id": "view-in-github",
        "colab_type": "text"
      },
      "source": [
        "<a href=\"https://colab.research.google.com/github/fabarroso/MVP-ML/blob/main/mvpml.ipynb\" target=\"_parent\"><img src=\"https://colab.research.google.com/assets/colab-badge.svg\" alt=\"Open In Colab\"/></a>"
      ]
    },
    {
      "cell_type": "markdown",
      "source": [
        "MVP -  Machine Learning\n",
        "Nome: Fabio de Andrade Barroso\n",
        "\n",
        "Matricula:4052025000158\n",
        "\n",
        "Dataset original: https://basedosdados.org/dataset/dbd717cb-7da8-4efd-9162-951a71694541?table=a2e9f998-e2c2-49b7-858a-ae1daef46dc0\n",
        "\n",
        "**Segurança no Estado de São Paulo - Dados estatísticos da Secretaria de Segurança Pública do Estado de São Paulo.**\n",
        "\n",
        "O dataset contém informações sobre ocorrências policiais no estado de São Paulo, com diversas variáveis relacionadas a diferentes tipos de crimes (homicídios, furtos, roubos, estupros, etc.) por município, mês e ano.\n",
        "\n",
        "**Organização:**\n",
        "Governo de São Paulo\n",
        "\n",
        "**Cobertura temporal:**\n",
        "2002 - 2021"
      ],
      "metadata": {
        "id": "ihQol8BeVLEe"
      }
    },
    {
      "cell_type": "markdown",
      "source": [
        "**1 - Objetivo**\n",
        "\n",
        "Analisar o comportamento e a ocorrência de crimes ao longo do tempo, utilizando técnicas de Análise Exploratória de Dados (EDA), pré-processamento de dados e aprendizado de máquina para identificar padrões, prever tendências e possíveis fatores que impactam a criminalidade.\n",
        "\n",
        "**1.1 - Escopo**\n",
        "\n",
        "**Exploração dos dados:** Identificar e compreender a distribuição e tendências dos diferentes tipos de crimes (homicídios, roubos, furtos, etc.) ao longo do tempo.\n",
        "\n",
        "**Pré-processamento:** Lidar com valores ausentes, formatação de dados, normalização e transformação de variáveis para melhor adequação ao modelo.\n",
        "\n",
        "**Machine Learning:** Aplicar modelos preditivos para classificar ou prever tipos de crimes ou áreas de maior risco com base em variáveis temporais e geográficas.\n",
        "\n",
        "**1.2 - Contexto do Problema**\n",
        "\n",
        "A segurança pública é um tema central em muitas discussões políticas e sociais. A análise dos dados de criminalidade pode auxiliar no planejamento de políticas públicas mais eficazes e estratégias de prevenção. Com o uso de machine learning, é possível prever áreas de maior risco e padrões sazonais de crimes, ajudando as autoridades a direcionar recursos de forma mais eficiente."
      ],
      "metadata": {
        "id": "KU1j90AtnBwJ"
      }
    },
    {
      "cell_type": "markdown",
      "source": [
        "**2 - Ambiente**\n",
        "\n",
        "As bibliotecas foram escolhidas para garantir um fluxo eficiente de análise de dados e modelagem. *Pandas* e *NumPy* são usadas para manipulação e cálculo dos dados. *Matplotlib* e *Seaborn* são utilizadas para visualização e exploração gráfica. *Scikit-learn*  facilita o pré-processamento, criação de modelos, validação cruzada e avaliação de desempenho. Essas ferramentas asseguram uma análise robusta e reprodutível do dataset.\n",
        "\n",
        "Ao carregar o dataset e realizar experimentos com o modelo, a definição da *seed*   assegura que a divisão entre treino e teste e outras etapas aleatórias, como a inicialização do modelo, sejam consistentes. Isso é crucial para garantir que as avaliações de desempenho do modelo sejam justas e reproduzíveis em diferentes execuções.\n",
        "\n",
        "Foi utilizado pd.set_option do Pandas, evitando assim que colunas ou textos ficassem truncados."
      ],
      "metadata": {
        "id": "1yZSpRKznho5"
      }
    },
    {
      "cell_type": "code",
      "source": [
        "## Carga de bibliotecas utilizadas\n",
        "\n",
        "import warnings\n",
        "warnings.filterwarnings('ignore')\n",
        "import pandas as pd\n",
        "import numpy as np\n",
        "import matplotlib.pyplot as plt\n",
        "import seaborn as sns\n",
        "import matplotlib as mpl\n",
        "import random\n",
        "import sys\n",
        "#from scipy.stats import chi2_contingency\n",
        "from sklearn.preprocessing import StandardScaler\n",
        "from sklearn.impute import SimpleImputer\n",
        "from sklearn.compose import ColumnTransformer\n",
        "from sklearn.model_selection import train_test_split\n",
        "from sklearn.preprocessing import OneHotEncoder\n",
        "from sklearn.ensemble import RandomForestClassifier\n",
        "from sklearn.model_selection import cross_val_score\n",
        "from sklearn.model_selection import KFold\n",
        "from sklearn.pipeline import Pipeline\n",
        "from sklearn.metrics import accuracy_score, classification_report, confusion_matrix\n",
        "\n",
        "# Definir o SEED para reprodutibilidade (controle de aleatoriedade)\n",
        "SEED = 42\n",
        "np.random.seed(SEED)\n",
        "random.seed(SEED)\n",
        "\n",
        "# Ajustando as configurações para exibir todas as colunas e linhas\n",
        "pd.set_option('display.max_columns', None)\n",
        "pd.set_option('display.max_rows', 30)\n",
        "pd.set_option('display.max_colwidth', None)\n",
        "pd.set_option('display.expand_frame_repr', False)\n",
        "\n",
        "# Exibição de resultados\n",
        "print(\"Python:\", sys.version.split()[0])\n",
        "print(\"Seed global:\", SEED)"
      ],
      "metadata": {
        "id": "WrXsZXhTVQ9r",
        "outputId": "24b71651-b760-4649-f508-4b842527aeb3",
        "colab": {
          "base_uri": "https://localhost:8080/"
        }
      },
      "execution_count": 32,
      "outputs": [
        {
          "output_type": "stream",
          "name": "stdout",
          "text": [
            "Python: 3.12.11\n",
            "Seed global: 42\n"
          ]
        }
      ]
    },
    {
      "cell_type": "markdown",
      "source": [
        "**3 - Dados: carga, entendimento e qualidade**"
      ],
      "metadata": {
        "id": "0j5IsyAun4wC"
      }
    },
    {
      "cell_type": "markdown",
      "source": [
        "O dataset foi carregado diretamente de uma URL no GitHub, utilizando pd.read_csv, com a configuração de delimitador para vírgula (,) e codificação adequada para caracteres especiais (ISO-8859-1)."
      ],
      "metadata": {
        "id": "6EfBEidansgb"
      }
    },
    {
      "cell_type": "code",
      "source": [
        "##Carregamento dos Dados\n",
        "# URL GitHub\n",
        "url = 'https://raw.githubusercontent.com/fabarroso/dados_sp_gov_ssp/main/sp_gov_ssp.csv'\n",
        "\n",
        "# Carregamento do dataset\n",
        "df = pd.read_csv(url, delimiter=',', encoding='ISO-8859-1')\n",
        "\n",
        "# Substituindo valores NaN por um placeholder (\"N/A\") para evitar quebras no template\n",
        "df.fillna('N/A', inplace=True)\n",
        "\n",
        "# Exibe as primeiras 10 linhas\n",
        "print(df.head(10).to_string())"
      ],
      "metadata": {
        "id": "r4WP3gOvVZw8",
        "outputId": "d6e25a65-b984-4bd4-e494-96ca96a177fb",
        "colab": {
          "base_uri": "https://localhost:8080/"
        }
      },
      "execution_count": 33,
      "outputs": [
        {
          "output_type": "stream",
          "name": "stdout",
          "text": [
            "    ano  mes  id_municipio           regiao_ssp homicidio_doloso numero_de_vitimas_em_homicidio_doloso homicidio_doloso_por_acidente_de_transito numero_de_vitimas_em_homicidio_doloso_por_acidente_de_transito homicidio_culposo_por_acidente_de_transito homicidio_culposo_outros tentativa_de_homicidio lesao_corporal_seguida_de_morte lesao_corporal_dolosa lesao_corporal_culposa_por_acidente_de_transito lesao_corporal_culposa_outras latrocinio numero_de_vitimas_em_latrocinio total_de_estupro estupro estupro_de_vulneravel total_de_roubo_outros roubo_outros roubo_de_veiculo roubo_a_banco roubo_de_carga furto_outros furto_de_veiculo\n",
            "0  2002    1       3500105  Presidente Prudente             0.00                                  0.00                                      0.00                                                           0.00                                       0.00                     0.00                   0.00                            0.00                 24.00                                           13.00                          2.00       0.00                            0.00             0.00     N/A                   N/A                  0.00          N/A             0.00          0.00           0.00        21.00             0.00\n",
            "1  2002    2       3500105  Presidente Prudente             0.00                                  0.00                                      0.00                                                           0.00                                       0.00                     0.00                   0.00                            0.00                 24.00                                           15.00                          2.00       0.00                            0.00             0.00     N/A                   N/A                  0.00          N/A             0.00          0.00           0.00        32.00             0.00\n",
            "2  2002    3       3500105  Presidente Prudente             0.00                                  0.00                                      0.00                                                           0.00                                       0.00                     0.00                   1.00                            0.00                 21.00                                           13.00                          5.00       0.00                            0.00             0.00     N/A                   N/A                  0.00          N/A             0.00          0.00           0.00        36.00             0.00\n",
            "3  2002    4       3500105  Presidente Prudente             0.00                                  0.00                                      0.00                                                           0.00                                       0.00                     0.00                   1.00                            0.00                 36.00                                           13.00                          1.00       0.00                            0.00             0.00     N/A                   N/A                  1.00          N/A             0.00          0.00           0.00        45.00             0.00\n",
            "4  2002    5       3500105  Presidente Prudente             0.00                                  0.00                                      0.00                                                           0.00                                       0.00                     0.00                   0.00                            0.00                 27.00                                           12.00                          1.00       0.00                            0.00             0.00     N/A                   N/A                  1.00          N/A             0.00          0.00           0.00        35.00             0.00\n",
            "5  2002    6       3500105  Presidente Prudente             0.00                                  0.00                                      0.00                                                           0.00                                       0.00                     0.00                   1.00                            0.00                 19.00                                           20.00                          3.00       0.00                            0.00             0.00     N/A                   N/A                  1.00          N/A             0.00          0.00           0.00        25.00             0.00\n",
            "6  2002    7       3500105  Presidente Prudente             0.00                                  0.00                                      0.00                                                           0.00                                       0.00                     0.00                   0.00                            0.00                 18.00                                           16.00                          4.00       0.00                            0.00             0.00     N/A                   N/A                  0.00          N/A             0.00          0.00           0.00        28.00             0.00\n",
            "7  2002    8       3500105  Presidente Prudente             0.00                                  0.00                                      0.00                                                           0.00                                       0.00                     0.00                   0.00                            0.00                 36.00                                           12.00                          2.00       1.00                            1.00             0.00     N/A                   N/A                  0.00          N/A             0.00          0.00           0.00        21.00             0.00\n",
            "8  2002    9       3500105  Presidente Prudente             1.00                                  1.00                                      0.00                                                           0.00                                       0.00                     0.00                   0.00                            0.00                 24.00                                           12.00                          4.00       0.00                            0.00             0.00     N/A                   N/A                  0.00          N/A             0.00          0.00           0.00        17.00             0.00\n",
            "9  2002   10       3500105  Presidente Prudente             0.00                                  0.00                                      0.00                                                           0.00                                       1.00                     0.00                   1.00                            0.00                 35.00                                           11.00                          2.00       0.00                            0.00             0.00     N/A                   N/A                  0.00          N/A             0.00          0.00           0.00        27.00             0.00\n"
          ]
        }
      ]
    },
    {
      "cell_type": "markdown",
      "source": [
        "os ultimos 4 meses do ultimo ano estão com as linhas vazias\n"
      ],
      "metadata": {
        "id": "IidFaNDhr7_u"
      }
    },
    {
      "cell_type": "code",
      "source": [
        "# Primeiramente, identificamos o último ano no dataset\n",
        "ultimo_ano = df['ano'].max()\n",
        "\n",
        "# Identificar os últimos 4 meses desse último ano\n",
        "meses_para_excluir = [9, 10, 11, 12]  # setembro, outubro, novembro, dezembro\n",
        "\n",
        "# Criar um DataFrame com os dados que serão excluídos (últimos 4 meses do último ano)\n",
        "df_eliminado = df[(df['ano'] == ultimo_ano) & (df['mes'].isin(meses_para_excluir))]\n",
        "\n",
        "# Exibir as linhas eliminadas\n",
        "print(\"Linhas Eliminadas:\")\n",
        "print(df_eliminado)\n",
        "\n",
        "print(\"\\n\" + \"-\"*50 + \"\\n\")\n",
        "\n",
        "# Exibir a quantidade de linhas eliminadas\n",
        "print(\"\\nQuantidade de Linhas Eliminadas:\", df_eliminado.shape[0])\n",
        "\n",
        "# Filtrando o DataFrame para excluir os últimos 4 meses do último ano\n",
        "df_filtrado = df[~((df['ano'] == ultimo_ano) & (df['mes'].isin(meses_para_excluir)))]\n",
        "\n",
        "print(\"\\n\" + \"-\"*50 + \"\\n\")\n",
        "\n",
        "# Informações dos tipos de dados\n",
        "df.info()\n",
        "\n",
        "print(\"\\n\" + \"-\"*50 + \"\\n\")\n",
        "\n",
        "# Estatísticas descritivas\n",
        "print (df.describe())\n",
        "#print(df.describe(include='all'))"
      ],
      "metadata": {
        "id": "JzUwzvQoqvPq",
        "outputId": "52f66505-eeb4-4cbf-ac2e-52305568de89",
        "colab": {
          "base_uri": "https://localhost:8080/"
        }
      },
      "execution_count": 34,
      "outputs": [
        {
          "output_type": "stream",
          "name": "stdout",
          "text": [
            "Linhas Eliminadas:\n",
            "         ano  mes  id_municipio               regiao_ssp homicidio_doloso numero_de_vitimas_em_homicidio_doloso homicidio_doloso_por_acidente_de_transito numero_de_vitimas_em_homicidio_doloso_por_acidente_de_transito homicidio_culposo_por_acidente_de_transito homicidio_culposo_outros tentativa_de_homicidio lesao_corporal_seguida_de_morte lesao_corporal_dolosa lesao_corporal_culposa_por_acidente_de_transito lesao_corporal_culposa_outras latrocinio numero_de_vitimas_em_latrocinio total_de_estupro estupro estupro_de_vulneravel total_de_roubo_outros roubo_outros roubo_de_veiculo roubo_a_banco roubo_de_carga furto_outros furto_de_veiculo\n",
            "123056  2021    9       3500402               Piracicaba              N/A                                   N/A                                       N/A                                                            N/A                                        N/A                      N/A                    N/A                             N/A                   N/A                                             N/A                           N/A        N/A                             N/A              N/A     N/A                   N/A                   N/A          N/A              N/A           N/A            N/A          N/A              N/A\n",
            "123057  2021   10       3500402               Piracicaba              N/A                                   N/A                                       N/A                                                            N/A                                        N/A                      N/A                    N/A                             N/A                   N/A                                             N/A                           N/A        N/A                             N/A              N/A     N/A                   N/A                   N/A          N/A              N/A           N/A            N/A          N/A              N/A\n",
            "123058  2021   11       3500402               Piracicaba              N/A                                   N/A                                       N/A                                                            N/A                                        N/A                      N/A                    N/A                             N/A                   N/A                                             N/A                           N/A        N/A                             N/A              N/A     N/A                   N/A                   N/A          N/A              N/A           N/A            N/A          N/A              N/A\n",
            "123059  2021   12       3500402               Piracicaba              N/A                                   N/A                                       N/A                                                            N/A                                        N/A                      N/A                    N/A                             N/A                   N/A                                             N/A                           N/A        N/A                             N/A              N/A     N/A                   N/A                   N/A          N/A              N/A           N/A            N/A          N/A              N/A\n",
            "123068  2021    9       3500105      Presidente Prudente              N/A                                   N/A                                       N/A                                                            N/A                                        N/A                      N/A                    N/A                             N/A                   N/A                                             N/A                           N/A        N/A                             N/A              N/A     N/A                   N/A                   N/A          N/A              N/A           N/A            N/A          N/A              N/A\n",
            "...      ...  ...           ...                      ...              ...                                   ...                                       ...                                                            ...                                        ...                      ...                    ...                             ...                   ...                                             ...                           ...        ...                             ...              ...     ...                   ...                   ...          ...              ...           ...            ...          ...              ...\n",
            "130775  2021   12       3501400                    Bauru              N/A                                   N/A                                       N/A                                                            N/A                                        N/A                      N/A                    N/A                             N/A                   N/A                                             N/A                           N/A        N/A                             N/A              N/A     N/A                   N/A                   N/A          N/A              N/A           N/A            N/A          N/A              N/A\n",
            "130784  2021    9       3501806  SÃ£o JosÃ© do Rio Preto              N/A                                   N/A                                       N/A                                                            N/A                                        N/A                      N/A                    N/A                             N/A                   N/A                                             N/A                           N/A        N/A                             N/A              N/A     N/A                   N/A                   N/A          N/A              N/A           N/A            N/A          N/A              N/A\n",
            "130785  2021   10       3501806  SÃ£o JosÃ© do Rio Preto              N/A                                   N/A                                       N/A                                                            N/A                                        N/A                      N/A                    N/A                             N/A                   N/A                                             N/A                           N/A        N/A                             N/A              N/A     N/A                   N/A                   N/A          N/A              N/A           N/A            N/A          N/A              N/A\n",
            "130786  2021   11       3501806  SÃ£o JosÃ© do Rio Preto              N/A                                   N/A                                       N/A                                                            N/A                                        N/A                      N/A                    N/A                             N/A                   N/A                                             N/A                           N/A        N/A                             N/A              N/A     N/A                   N/A                   N/A          N/A              N/A           N/A            N/A          N/A              N/A\n",
            "130787  2021   12       3501806  SÃ£o JosÃ© do Rio Preto              N/A                                   N/A                                       N/A                                                            N/A                                        N/A                      N/A                    N/A                             N/A                   N/A                                             N/A                           N/A        N/A                             N/A              N/A     N/A                   N/A                   N/A          N/A              N/A           N/A            N/A          N/A              N/A\n",
            "\n",
            "[2580 rows x 27 columns]\n",
            "\n",
            "--------------------------------------------------\n",
            "\n",
            "\n",
            "Quantidade de Linhas Eliminadas: 2580\n",
            "\n",
            "--------------------------------------------------\n",
            "\n",
            "<class 'pandas.core.frame.DataFrame'>\n",
            "RangeIndex: 153876 entries, 0 to 153875\n",
            "Data columns (total 27 columns):\n",
            " #   Column                                                          Non-Null Count   Dtype \n",
            "---  ------                                                          --------------   ----- \n",
            " 0   ano                                                             153876 non-null  int64 \n",
            " 1   mes                                                             153876 non-null  int64 \n",
            " 2   id_municipio                                                    153876 non-null  int64 \n",
            " 3   regiao_ssp                                                      153876 non-null  object\n",
            " 4   homicidio_doloso                                                153876 non-null  object\n",
            " 5   numero_de_vitimas_em_homicidio_doloso                           153876 non-null  object\n",
            " 6   homicidio_doloso_por_acidente_de_transito                       153876 non-null  object\n",
            " 7   numero_de_vitimas_em_homicidio_doloso_por_acidente_de_transito  153876 non-null  object\n",
            " 8   homicidio_culposo_por_acidente_de_transito                      153876 non-null  object\n",
            " 9   homicidio_culposo_outros                                        153876 non-null  object\n",
            " 10  tentativa_de_homicidio                                          153876 non-null  object\n",
            " 11  lesao_corporal_seguida_de_morte                                 153876 non-null  object\n",
            " 12  lesao_corporal_dolosa                                           153876 non-null  object\n",
            " 13  lesao_corporal_culposa_por_acidente_de_transito                 153876 non-null  object\n",
            " 14  lesao_corporal_culposa_outras                                   153876 non-null  object\n",
            " 15  latrocinio                                                      153876 non-null  object\n",
            " 16  numero_de_vitimas_em_latrocinio                                 153876 non-null  object\n",
            " 17  total_de_estupro                                                153876 non-null  object\n",
            " 18  estupro                                                         153876 non-null  object\n",
            " 19  estupro_de_vulneravel                                           153876 non-null  object\n",
            " 20  total_de_roubo_outros                                           153876 non-null  object\n",
            " 21  roubo_outros                                                    153876 non-null  object\n",
            " 22  roubo_de_veiculo                                                153876 non-null  object\n",
            " 23  roubo_a_banco                                                   153876 non-null  object\n",
            " 24  roubo_de_carga                                                  153876 non-null  object\n",
            " 25  furto_outros                                                    153876 non-null  object\n",
            " 26  furto_de_veiculo                                                153876 non-null  object\n",
            "dtypes: int64(3), object(24)\n",
            "memory usage: 31.7+ MB\n",
            "\n",
            "--------------------------------------------------\n",
            "\n",
            "            ano       mes  id_municipio\n",
            "count 153876.00 153876.00     153876.00\n",
            "mean    2011.50      6.50    3528670.39\n",
            "std        5.77      3.45      16732.51\n",
            "min     2002.00      1.00    3500105.00\n",
            "25%     2006.00      3.75    3514502.00\n",
            "50%     2012.00      6.50    3528502.00\n",
            "75%     2017.00      9.25    3543238.00\n",
            "max     2021.00     12.00    3557303.00\n"
          ]
        }
      ]
    },
    {
      "cell_type": "markdown",
      "source": [
        "3.1 Análise exploratória (EDA)"
      ],
      "metadata": {
        "id": "OoPvE3sjnE8X"
      }
    }
  ]
}